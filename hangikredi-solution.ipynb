{
 "cells": [
  {
   "cell_type": "code",
   "execution_count": 1,
   "id": "7727ec50",
   "metadata": {},
   "outputs": [],
   "source": [
    "import pandas as pd\n",
    "import numpy as np\n",
    "import matplotlib.pyplot as plt\n",
    "from sklearn.metrics import r2_score\n",
    "import statsmodels.api as sm\n",
    "import seaborn as sn\n",
    "from sklearn.model_selection import train_test_split\n",
    "from numpy import mean\n",
    "from numpy import std\n",
    "from sklearn.datasets import make_classification\n",
    "from sklearn.model_selection import KFold\n",
    "from sklearn.model_selection import cross_val_score\n",
    "from sklearn.linear_model import LogisticRegression\n",
    "from sklearn.preprocessing import MinMaxScaler\n",
    "from sklearn.svm import SVR\n"
   ]
  },
  {
   "cell_type": "code",
   "execution_count": 2,
   "id": "1cf1b282",
   "metadata": {},
   "outputs": [],
   "source": [
    "deposit_df=pd.read_csv('deposit.csv')"
   ]
  },
  {
   "cell_type": "code",
   "execution_count": 3,
   "id": "5582bd1d",
   "metadata": {},
   "outputs": [
    {
     "name": "stdout",
     "output_type": "stream",
     "text": [
      "<class 'pandas.core.frame.DataFrame'>\n",
      "RangeIndex: 40000 entries, 0 to 39999\n",
      "Data columns (total 14 columns):\n",
      " #   Column     Non-Null Count  Dtype \n",
      "---  ------     --------------  ----- \n",
      " 0   age        40000 non-null  int64 \n",
      " 1   job        40000 non-null  object\n",
      " 2   marital    40000 non-null  object\n",
      " 3   education  40000 non-null  object\n",
      " 4   default    40000 non-null  object\n",
      " 5   balance    40000 non-null  int64 \n",
      " 6   housing    40000 non-null  object\n",
      " 7   loan       40000 non-null  object\n",
      " 8   contact    40000 non-null  object\n",
      " 9   day        40000 non-null  int64 \n",
      " 10  month      40000 non-null  object\n",
      " 11  duration   40000 non-null  int64 \n",
      " 12  campaign   40000 non-null  int64 \n",
      " 13  y          40000 non-null  object\n",
      "dtypes: int64(5), object(9)\n",
      "memory usage: 4.3+ MB\n"
     ]
    }
   ],
   "source": [
    "deposit_df.info()"
   ]
  },
  {
   "cell_type": "code",
   "execution_count": 4,
   "id": "60e9776e",
   "metadata": {},
   "outputs": [
    {
     "data": {
      "text/html": [
       "<div>\n",
       "<style scoped>\n",
       "    .dataframe tbody tr th:only-of-type {\n",
       "        vertical-align: middle;\n",
       "    }\n",
       "\n",
       "    .dataframe tbody tr th {\n",
       "        vertical-align: top;\n",
       "    }\n",
       "\n",
       "    .dataframe thead th {\n",
       "        text-align: right;\n",
       "    }\n",
       "</style>\n",
       "<table border=\"1\" class=\"dataframe\">\n",
       "  <thead>\n",
       "    <tr style=\"text-align: right;\">\n",
       "      <th></th>\n",
       "      <th>age</th>\n",
       "      <th>job</th>\n",
       "      <th>marital</th>\n",
       "      <th>education</th>\n",
       "      <th>default</th>\n",
       "      <th>balance</th>\n",
       "      <th>housing</th>\n",
       "      <th>loan</th>\n",
       "      <th>contact</th>\n",
       "      <th>day</th>\n",
       "      <th>month</th>\n",
       "      <th>duration</th>\n",
       "      <th>campaign</th>\n",
       "      <th>y</th>\n",
       "    </tr>\n",
       "  </thead>\n",
       "  <tbody>\n",
       "    <tr>\n",
       "      <th>0</th>\n",
       "      <td>58</td>\n",
       "      <td>management</td>\n",
       "      <td>married</td>\n",
       "      <td>tertiary</td>\n",
       "      <td>no</td>\n",
       "      <td>2143</td>\n",
       "      <td>yes</td>\n",
       "      <td>no</td>\n",
       "      <td>unknown</td>\n",
       "      <td>5</td>\n",
       "      <td>may</td>\n",
       "      <td>261</td>\n",
       "      <td>1</td>\n",
       "      <td>no</td>\n",
       "    </tr>\n",
       "    <tr>\n",
       "      <th>1</th>\n",
       "      <td>44</td>\n",
       "      <td>technician</td>\n",
       "      <td>single</td>\n",
       "      <td>secondary</td>\n",
       "      <td>no</td>\n",
       "      <td>29</td>\n",
       "      <td>yes</td>\n",
       "      <td>no</td>\n",
       "      <td>unknown</td>\n",
       "      <td>5</td>\n",
       "      <td>may</td>\n",
       "      <td>151</td>\n",
       "      <td>1</td>\n",
       "      <td>no</td>\n",
       "    </tr>\n",
       "    <tr>\n",
       "      <th>2</th>\n",
       "      <td>33</td>\n",
       "      <td>entrepreneur</td>\n",
       "      <td>married</td>\n",
       "      <td>secondary</td>\n",
       "      <td>no</td>\n",
       "      <td>2</td>\n",
       "      <td>yes</td>\n",
       "      <td>yes</td>\n",
       "      <td>unknown</td>\n",
       "      <td>5</td>\n",
       "      <td>may</td>\n",
       "      <td>76</td>\n",
       "      <td>1</td>\n",
       "      <td>no</td>\n",
       "    </tr>\n",
       "    <tr>\n",
       "      <th>3</th>\n",
       "      <td>47</td>\n",
       "      <td>blue-collar</td>\n",
       "      <td>married</td>\n",
       "      <td>unknown</td>\n",
       "      <td>no</td>\n",
       "      <td>1506</td>\n",
       "      <td>yes</td>\n",
       "      <td>no</td>\n",
       "      <td>unknown</td>\n",
       "      <td>5</td>\n",
       "      <td>may</td>\n",
       "      <td>92</td>\n",
       "      <td>1</td>\n",
       "      <td>no</td>\n",
       "    </tr>\n",
       "    <tr>\n",
       "      <th>4</th>\n",
       "      <td>33</td>\n",
       "      <td>unknown</td>\n",
       "      <td>single</td>\n",
       "      <td>unknown</td>\n",
       "      <td>no</td>\n",
       "      <td>1</td>\n",
       "      <td>no</td>\n",
       "      <td>no</td>\n",
       "      <td>unknown</td>\n",
       "      <td>5</td>\n",
       "      <td>may</td>\n",
       "      <td>198</td>\n",
       "      <td>1</td>\n",
       "      <td>no</td>\n",
       "    </tr>\n",
       "  </tbody>\n",
       "</table>\n",
       "</div>"
      ],
      "text/plain": [
       "   age           job  marital  education default  balance housing loan  \\\n",
       "0   58    management  married   tertiary      no     2143     yes   no   \n",
       "1   44    technician   single  secondary      no       29     yes   no   \n",
       "2   33  entrepreneur  married  secondary      no        2     yes  yes   \n",
       "3   47   blue-collar  married    unknown      no     1506     yes   no   \n",
       "4   33       unknown   single    unknown      no        1      no   no   \n",
       "\n",
       "   contact  day month  duration  campaign   y  \n",
       "0  unknown    5   may       261         1  no  \n",
       "1  unknown    5   may       151         1  no  \n",
       "2  unknown    5   may        76         1  no  \n",
       "3  unknown    5   may        92         1  no  \n",
       "4  unknown    5   may       198         1  no  "
      ]
     },
     "execution_count": 4,
     "metadata": {},
     "output_type": "execute_result"
    }
   ],
   "source": [
    "deposit_df.head()"
   ]
  },
  {
   "cell_type": "code",
   "execution_count": 5,
   "id": "5fdfb0a5",
   "metadata": {},
   "outputs": [
    {
     "data": {
      "text/plain": [
       "no     92.76\n",
       "yes     7.24\n",
       "Name: y, dtype: float64"
      ]
     },
     "execution_count": 5,
     "metadata": {},
     "output_type": "execute_result"
    }
   ],
   "source": [
    "deposit_df.y.value_counts(normalize=True)*100"
   ]
  },
  {
   "cell_type": "code",
   "execution_count": 6,
   "id": "5bcf242a",
   "metadata": {},
   "outputs": [
    {
     "data": {
      "text/plain": [
       "<AxesSubplot:>"
      ]
     },
     "execution_count": 6,
     "metadata": {},
     "output_type": "execute_result"
    },
    {
     "data": {
      "image/png": "[encoded data removed]",
      "text/plain": [
       "<Figure size 432x288 with 1 Axes>"
      ]
     },
     "metadata": {
      "needs_background": "light"
     },
     "output_type": "display_data"
    }
   ],
   "source": [
    "deposit_df.y.value_counts().plot(kind='barh')"
   ]
  },
  {
   "cell_type": "code",
   "execution_count": 7,
   "id": "97dcc20b",
   "metadata": {},
   "outputs": [],
   "source": [
    "job = pd.crosstab(deposit_df['job'],deposit_df['y'])\n",
    "job_norm = job.div(job.sum(1).astype(float), axis=0)"
   ]
  },
  {
   "cell_type": "markdown",
   "id": "88146665",
   "metadata": {},
   "source": [
    "# before proceeding to k-validation part I'd like to visiualize the possibility of subscription of each independent variable"
   ]
  },
  {
   "cell_type": "code",
   "execution_count": 8,
   "id": "6ca564b8",
   "metadata": {},
   "outputs": [
    {
     "name": "stderr",
     "output_type": "stream",
     "text": [
      "C:\\Users\\Yeni\\anaconda3\\lib\\site-packages\\seaborn\\distributions.py:2557: FutureWarning: `distplot` is a deprecated function and will be removed in a future version. Please adapt your code to use either `displot` (a figure-level function with similar flexibility) or `histplot` (an axes-level function for histograms).\n",
      "  warnings.warn(msg, FutureWarning)\n"
     ]
    },
    {
     "data": {
      "image/png": "[encoded data removed]",
      "text/plain": [
       "<Figure size 432x288 with 1 Axes>"
      ]
     },
     "metadata": {
      "needs_background": "light"
     },
     "output_type": "display_data"
    }
   ],
   "source": [
    "#age distribution \n",
    "\n",
    "sn.distplot(deposit_df['age']);\n",
    "\n",
    "#We can infer that most of the clients fall in the age group between 20-60. so aiming age group not belong to this category \n",
    "#wouldn't make sense"
   ]
  },
  {
   "cell_type": "code",
   "execution_count": 29,
   "id": "05a4782c",
   "metadata": {},
   "outputs": [],
   "source": [
    "job = pd.crosstab(deposit_df['job'],deposit_df['y'])\n",
    "job_norm = job.div(job.sum(1).astype(float), axis=0)"
   ]
  },
  {
   "cell_type": "code",
   "execution_count": 28,
   "id": "836fd76d",
   "metadata": {},
   "outputs": [
    {
     "data": {
      "text/plain": [
       "blue-collar      9383\n",
       "management       8166\n",
       "technician       6852\n",
       "admin            4483\n",
       "services         3910\n",
       "retired          1437\n",
       "self-employed    1414\n",
       "entrepreneur     1405\n",
       "unemployed       1104\n",
       "housemaid        1087\n",
       "student           524\n",
       "unknown           235\n",
       "Name: job, dtype: int64"
      ]
     },
     "execution_count": 28,
     "metadata": {},
     "output_type": "execute_result"
    }
   ],
   "source": [
    "deposit_df['job'].value_counts()"
   ]
  },
  {
   "cell_type": "code",
   "execution_count": 10,
   "id": "ce7de6f5",
   "metadata": {},
   "outputs": [
    {
     "data": {
      "image/png": "[encoded data removed]",
      "text/plain": [
       "<Figure size 576x432 with 1 Axes>"
      ]
     },
     "metadata": {
      "needs_background": "light"
     },
     "output_type": "display_data"
    }
   ],
   "source": [
    "#type of jobs and their subscription percentages\n",
    "\n",
    "job_norm.plot.bar(stacked=True,figsize=(8,6));\n",
    "\n",
    "\n",
    "#From the below graph we can conclude that students and retired people have higher chances of subscribing to a term deposit, \n",
    "#which might be unexpected as students generally do not subscribe to a term deposit. \n",
    "#The possible reason is that the number of students in the dataset is less and comparatively to other job types, more students have subscribed to a term deposit."
   ]
  },
  {
   "cell_type": "code",
   "execution_count": 11,
   "id": "7f25d1e1",
   "metadata": {},
   "outputs": [
    {
     "data": {
      "image/png": "[encoded data removed]",
      "text/plain": [
       "<Figure size 432x288 with 1 Axes>"
      ]
     },
     "metadata": {
      "needs_background": "light"
     },
     "output_type": "display_data"
    }
   ],
   "source": [
    "#subsription numbers based on marital status of customers\n",
    "\n",
    "sn.countplot(data=deposit_df, x='marital',hue='y');\n"
   ]
  },
  {
   "cell_type": "code",
   "execution_count": 30,
   "id": "ad5e42d4",
   "metadata": {},
   "outputs": [],
   "source": [
    "marry = pd.crosstab(deposit_df['marital'],deposit_df['y'])\n",
    "marry_norm = marry.div(marry.sum(1).astype(float), axis=0)"
   ]
  },
  {
   "cell_type": "code",
   "execution_count": 32,
   "id": "0773c90a",
   "metadata": {},
   "outputs": [
    {
     "data": {
      "image/png": "[encoded data removed]",
      "text/plain": [
       "<Figure size 576x432 with 1 Axes>"
      ]
     },
     "metadata": {
      "needs_background": "light"
     },
     "output_type": "display_data"
    }
   ],
   "source": [
    "marry_norm.plot.bar(stacked=True,figsize=(8,6));\n",
    "\n",
    "#martial status has no significant impact on subscription so we can pass this part\n"
   ]
  },
  {
   "cell_type": "code",
   "execution_count": 12,
   "id": "85086bf7",
   "metadata": {},
   "outputs": [
    {
     "data": {
      "text/html": [
       "<div>\n",
       "<style scoped>\n",
       "    .dataframe tbody tr th:only-of-type {\n",
       "        vertical-align: middle;\n",
       "    }\n",
       "\n",
       "    .dataframe tbody tr th {\n",
       "        vertical-align: top;\n",
       "    }\n",
       "\n",
       "    .dataframe thead th {\n",
       "        text-align: right;\n",
       "    }\n",
       "</style>\n",
       "<table border=\"1\" class=\"dataframe\">\n",
       "  <thead>\n",
       "    <tr style=\"text-align: right;\">\n",
       "      <th>y</th>\n",
       "      <th>no</th>\n",
       "      <th>yes</th>\n",
       "    </tr>\n",
       "    <tr>\n",
       "      <th>default</th>\n",
       "      <th></th>\n",
       "      <th></th>\n",
       "    </tr>\n",
       "  </thead>\n",
       "  <tbody>\n",
       "    <tr>\n",
       "      <th>no</th>\n",
       "      <td>0.927356</td>\n",
       "      <td>0.072644</td>\n",
       "    </tr>\n",
       "    <tr>\n",
       "      <th>yes</th>\n",
       "      <td>0.939431</td>\n",
       "      <td>0.060569</td>\n",
       "    </tr>\n",
       "  </tbody>\n",
       "</table>\n",
       "</div>"
      ],
      "text/plain": [
       "y              no       yes\n",
       "default                    \n",
       "no       0.927356  0.072644\n",
       "yes      0.939431  0.060569"
      ]
     },
     "execution_count": 12,
     "metadata": {},
     "output_type": "execute_result"
    }
   ],
   "source": [
    "#default vs subscription\n",
    "\n",
    "dflt = pd.crosstab(deposit_df['default'], deposit_df['y'])\n",
    "dflt_norm = dflt.div(dflt.sum(1).astype(float), axis=0)\n",
    "dflt_norm"
   ]
  },
  {
   "cell_type": "code",
   "execution_count": 20,
   "id": "8611370f",
   "metadata": {},
   "outputs": [
    {
     "data": {
      "text/plain": [
       "<AxesSubplot:xlabel='default'>"
      ]
     },
     "execution_count": 20,
     "metadata": {},
     "output_type": "execute_result"
    },
    {
     "data": {
      "image/png": "[encoded data removed]",
      "text/plain": [
       "<Figure size 432x432 with 1 Axes>"
      ]
     },
     "metadata": {
      "needs_background": "light"
     },
     "output_type": "display_data"
    }
   ],
   "source": [
    "dflt_norm.plot.bar(stacked=True, figsize=(6,6))\n",
    "\n",
    "#again having credit in default seems no significant impact on subscription"
   ]
  },
  {
   "cell_type": "code",
   "execution_count": 14,
   "id": "2f3a85ba",
   "metadata": {},
   "outputs": [
    {
     "data": {
      "image/png": "[encoded data removed]",
      "text/plain": [
       "<Figure size 432x288 with 1 Axes>"
      ]
     },
     "metadata": {
      "needs_background": "light"
     },
     "output_type": "display_data"
    }
   ],
   "source": [
    "#education vs subscription\n",
    "\n",
    "sn.countplot(data=deposit_df, x='education',hue='y');\n"
   ]
  },
  {
   "cell_type": "code",
   "execution_count": 37,
   "id": "71ecdffe",
   "metadata": {},
   "outputs": [],
   "source": [
    "ed = pd.crosstab(deposit_df['education'],deposit_df['y'])\n",
    "ed_norm = ed.div(ed.sum(1).astype(float), axis=0)"
   ]
  },
  {
   "cell_type": "code",
   "execution_count": 38,
   "id": "dab2bc43",
   "metadata": {},
   "outputs": [
    {
     "data": {
      "image/png": "[encoded data removed]",
      "text/plain": [
       "<Figure size 576x432 with 1 Axes>"
      ]
     },
     "metadata": {
      "needs_background": "light"
     },
     "output_type": "display_data"
    }
   ],
   "source": [
    "ed_norm.plot.bar(stacked=True,figsize=(8,6));\n",
    "\n",
    "#tertiary education has slightly higher chance to subscribed,which can be considered that educated people must be targeted\n",
    "#by the company\n"
   ]
  },
  {
   "cell_type": "code",
   "execution_count": 15,
   "id": "cfe5de64",
   "metadata": {},
   "outputs": [
    {
     "name": "stderr",
     "output_type": "stream",
     "text": [
      "C:\\Users\\Yeni\\anaconda3\\lib\\site-packages\\seaborn\\distributions.py:2557: FutureWarning: `distplot` is a deprecated function and will be removed in a future version. Please adapt your code to use either `displot` (a figure-level function with similar flexibility) or `histplot` (an axes-level function for histograms).\n",
      "  warnings.warn(msg, FutureWarning)\n"
     ]
    },
    {
     "data": {
      "image/png": "[encoded data removed]",
      "text/plain": [
       "<Figure size 432x288 with 1 Axes>"
      ]
     },
     "metadata": {
      "needs_background": "light"
     },
     "output_type": "display_data"
    }
   ],
   "source": [
    "#distribution of balance \n",
    "\n",
    "\n",
    "sn.distplot(deposit_df['balance']);\n",
    "\n",
    "\n"
   ]
  },
  {
   "cell_type": "code",
   "execution_count": 21,
   "id": "af3b7650",
   "metadata": {},
   "outputs": [
    {
     "data": {
      "text/html": [
       "<div>\n",
       "<style scoped>\n",
       "    .dataframe tbody tr th:only-of-type {\n",
       "        vertical-align: middle;\n",
       "    }\n",
       "\n",
       "    .dataframe tbody tr th {\n",
       "        vertical-align: top;\n",
       "    }\n",
       "\n",
       "    .dataframe thead th {\n",
       "        text-align: right;\n",
       "    }\n",
       "</style>\n",
       "<table border=\"1\" class=\"dataframe\">\n",
       "  <thead>\n",
       "    <tr style=\"text-align: right;\">\n",
       "      <th>y</th>\n",
       "      <th>no</th>\n",
       "      <th>yes</th>\n",
       "    </tr>\n",
       "    <tr>\n",
       "      <th>loan</th>\n",
       "      <th></th>\n",
       "      <th></th>\n",
       "    </tr>\n",
       "  </thead>\n",
       "  <tbody>\n",
       "    <tr>\n",
       "      <th>no</th>\n",
       "      <td>0.923919</td>\n",
       "      <td>0.076081</td>\n",
       "    </tr>\n",
       "    <tr>\n",
       "      <th>yes</th>\n",
       "      <td>0.945166</td>\n",
       "      <td>0.054834</td>\n",
       "    </tr>\n",
       "  </tbody>\n",
       "</table>\n",
       "</div>"
      ],
      "text/plain": [
       "y           no       yes\n",
       "loan                    \n",
       "no    0.923919  0.076081\n",
       "yes   0.945166  0.054834"
      ]
     },
     "execution_count": 21,
     "metadata": {},
     "output_type": "execute_result"
    }
   ],
   "source": [
    "# personal loan vs subscription\n",
    "\n",
    "dflt = pd.crosstab(deposit_df['loan'], deposit_df['y'])\n",
    "dflt_norm = dflt.div(dflt.sum(1).astype(float), axis=0)\n",
    "dflt_norm\n"
   ]
  },
  {
   "cell_type": "code",
   "execution_count": 22,
   "id": "34a5ab3f",
   "metadata": {},
   "outputs": [
    {
     "data": {
      "text/plain": [
       "<AxesSubplot:xlabel='loan'>"
      ]
     },
     "execution_count": 22,
     "metadata": {},
     "output_type": "execute_result"
    },
    {
     "data": {
      "image/png": "[encoded data removed]",
      "text/plain": [
       "<Figure size 432x432 with 1 Axes>"
      ]
     },
     "metadata": {
      "needs_background": "light"
     },
     "output_type": "display_data"
    }
   ],
   "source": [
    "dflt_norm.plot.bar(stacked=True, figsize=(6,6))\n",
    "\n",
    "\n",
    "#having personal loan has no impact on subcription so campaigns that company is to make shouldn't subcategorize it\n"
   ]
  },
  {
   "cell_type": "code",
   "execution_count": 39,
   "id": "a7bc595e",
   "metadata": {},
   "outputs": [
    {
     "data": {
      "text/plain": [
       "<AxesSubplot:xlabel='loan'>"
      ]
     },
     "execution_count": 39,
     "metadata": {},
     "output_type": "execute_result"
    },
    {
     "data": {
      "image/png": "[encoded data removed]",
      "text/plain": [
       "<Figure size 432x432 with 1 Axes>"
      ]
     },
     "metadata": {
      "needs_background": "light"
     },
     "output_type": "display_data"
    }
   ],
   "source": [
    "#housing loan vs subscription\n",
    "\n",
    "house = pd.crosstab(deposit_df['housing'], deposit_df['y'])\n",
    "house_norm = dflt.div(house.sum(1).astype(float), axis=0)\n",
    "\n",
    "house_norm.plot.bar(stacked=True, figsize=(6,6))\n",
    "\n",
    "# having not housing loan seems to have higher likelihood of subscription marketing segmention should include this fact.\n"
   ]
  },
  {
   "cell_type": "code",
   "execution_count": 23,
   "id": "108beb57",
   "metadata": {},
   "outputs": [
    {
     "data": {
      "image/png": "[encoded data removed]",
      "text/plain": [
       "<Figure size 432x288 with 1 Axes>"
      ]
     },
     "metadata": {
      "needs_background": "light"
     },
     "output_type": "display_data"
    }
   ],
   "source": [
    "#contact communication type vs subscription\n",
    "\n",
    "sn.countplot(data=deposit_df, x='contact',hue='y');\n"
   ]
  },
  {
   "cell_type": "code",
   "execution_count": 41,
   "id": "7b3b08a3",
   "metadata": {},
   "outputs": [
    {
     "data": {
      "text/plain": [
       "<AxesSubplot:xlabel='contact'>"
      ]
     },
     "execution_count": 41,
     "metadata": {},
     "output_type": "execute_result"
    },
    {
     "data": {
      "image/png": "[encoded data removed]",
      "text/plain": [
       "<Figure size 432x432 with 1 Axes>"
      ]
     },
     "metadata": {
      "needs_background": "light"
     },
     "output_type": "display_data"
    }
   ],
   "source": [
    "contact = pd.crosstab(deposit_df['contact'], deposit_df['y'])\n",
    "contact_norm = contact.div(contact.sum(1).astype(float), axis=0)\n",
    "\n",
    "contact_norm.plot.bar(stacked=True, figsize=(6,6))\n",
    "\n",
    "\n",
    "#cellular type of contact seems to be more convinceable when it comes to subscription,as cellphones are so common \n",
    "#there might no need for specific strategy for those who use cellphone"
   ]
  },
  {
   "cell_type": "code",
   "execution_count": 24,
   "id": "fdb0a45a",
   "metadata": {},
   "outputs": [
    {
     "data": {
      "image/png": "[encoded data removed]",
      "text/plain": [
       "<Figure size 432x288 with 1 Axes>"
      ]
     },
     "metadata": {
      "needs_background": "light"
     },
     "output_type": "display_data"
    }
   ],
   "source": [
    "# contact month vs subscription\n",
    "sn.countplot(data=deposit_df, x='month',hue='y');\n",
    "\n",
    "#contact month and subscription have no distinct relation therefore each month must be treated as same\n"
   ]
  },
  {
   "cell_type": "code",
   "execution_count": 26,
   "id": "67b3f70f",
   "metadata": {},
   "outputs": [
    {
     "name": "stderr",
     "output_type": "stream",
     "text": [
      "C:\\Users\\Yeni\\anaconda3\\lib\\site-packages\\seaborn\\distributions.py:2557: FutureWarning: `distplot` is a deprecated function and will be removed in a future version. Please adapt your code to use either `displot` (a figure-level function with similar flexibility) or `histplot` (an axes-level function for histograms).\n",
      "  warnings.warn(msg, FutureWarning)\n"
     ]
    },
    {
     "data": {
      "image/png": "[encoded data removed]",
      "text/plain": [
       "<Figure size 432x288 with 1 Axes>"
      ]
     },
     "metadata": {
      "needs_background": "light"
     },
     "output_type": "display_data"
    }
   ],
   "source": [
    "# distribution of duration\n",
    "\n",
    "sn.distplot(deposit_df['duration']);\n"
   ]
  },
  {
   "cell_type": "code",
   "execution_count": 36,
   "id": "2307cbdf",
   "metadata": {
    "scrolled": true
   },
   "outputs": [
    {
     "data": {
      "text/html": [
       "<div>\n",
       "<style scoped>\n",
       "    .dataframe tbody tr th:only-of-type {\n",
       "        vertical-align: middle;\n",
       "    }\n",
       "\n",
       "    .dataframe tbody tr th {\n",
       "        vertical-align: top;\n",
       "    }\n",
       "\n",
       "    .dataframe thead th {\n",
       "        text-align: right;\n",
       "    }\n",
       "</style>\n",
       "<table border=\"1\" class=\"dataframe\">\n",
       "  <thead>\n",
       "    <tr style=\"text-align: right;\">\n",
       "      <th></th>\n",
       "      <th>age</th>\n",
       "      <th>job</th>\n",
       "      <th>marital</th>\n",
       "      <th>education</th>\n",
       "      <th>default</th>\n",
       "      <th>balance</th>\n",
       "      <th>housing</th>\n",
       "      <th>loan</th>\n",
       "      <th>contact</th>\n",
       "      <th>day</th>\n",
       "      <th>month</th>\n",
       "      <th>duration</th>\n",
       "      <th>campaign</th>\n",
       "      <th>y</th>\n",
       "      <th>is_subscribed</th>\n",
       "    </tr>\n",
       "  </thead>\n",
       "  <tbody>\n",
       "    <tr>\n",
       "      <th>0</th>\n",
       "      <td>58</td>\n",
       "      <td>management</td>\n",
       "      <td>married</td>\n",
       "      <td>tertiary</td>\n",
       "      <td>no</td>\n",
       "      <td>2143</td>\n",
       "      <td>yes</td>\n",
       "      <td>no</td>\n",
       "      <td>unknown</td>\n",
       "      <td>5</td>\n",
       "      <td>may</td>\n",
       "      <td>261</td>\n",
       "      <td>1</td>\n",
       "      <td>no</td>\n",
       "      <td>0</td>\n",
       "    </tr>\n",
       "    <tr>\n",
       "      <th>1</th>\n",
       "      <td>44</td>\n",
       "      <td>technician</td>\n",
       "      <td>single</td>\n",
       "      <td>secondary</td>\n",
       "      <td>no</td>\n",
       "      <td>29</td>\n",
       "      <td>yes</td>\n",
       "      <td>no</td>\n",
       "      <td>unknown</td>\n",
       "      <td>5</td>\n",
       "      <td>may</td>\n",
       "      <td>151</td>\n",
       "      <td>1</td>\n",
       "      <td>no</td>\n",
       "      <td>0</td>\n",
       "    </tr>\n",
       "    <tr>\n",
       "      <th>2</th>\n",
       "      <td>33</td>\n",
       "      <td>entrepreneur</td>\n",
       "      <td>married</td>\n",
       "      <td>secondary</td>\n",
       "      <td>no</td>\n",
       "      <td>2</td>\n",
       "      <td>yes</td>\n",
       "      <td>yes</td>\n",
       "      <td>unknown</td>\n",
       "      <td>5</td>\n",
       "      <td>may</td>\n",
       "      <td>76</td>\n",
       "      <td>1</td>\n",
       "      <td>no</td>\n",
       "      <td>0</td>\n",
       "    </tr>\n",
       "    <tr>\n",
       "      <th>3</th>\n",
       "      <td>47</td>\n",
       "      <td>blue-collar</td>\n",
       "      <td>married</td>\n",
       "      <td>unknown</td>\n",
       "      <td>no</td>\n",
       "      <td>1506</td>\n",
       "      <td>yes</td>\n",
       "      <td>no</td>\n",
       "      <td>unknown</td>\n",
       "      <td>5</td>\n",
       "      <td>may</td>\n",
       "      <td>92</td>\n",
       "      <td>1</td>\n",
       "      <td>no</td>\n",
       "      <td>0</td>\n",
       "    </tr>\n",
       "    <tr>\n",
       "      <th>4</th>\n",
       "      <td>33</td>\n",
       "      <td>unknown</td>\n",
       "      <td>single</td>\n",
       "      <td>unknown</td>\n",
       "      <td>no</td>\n",
       "      <td>1</td>\n",
       "      <td>no</td>\n",
       "      <td>no</td>\n",
       "      <td>unknown</td>\n",
       "      <td>5</td>\n",
       "      <td>may</td>\n",
       "      <td>198</td>\n",
       "      <td>1</td>\n",
       "      <td>no</td>\n",
       "      <td>0</td>\n",
       "    </tr>\n",
       "  </tbody>\n",
       "</table>\n",
       "</div>"
      ],
      "text/plain": [
       "   age           job  marital  education default  balance housing loan  \\\n",
       "0   58    management  married   tertiary      no     2143     yes   no   \n",
       "1   44    technician   single  secondary      no       29     yes   no   \n",
       "2   33  entrepreneur  married  secondary      no        2     yes  yes   \n",
       "3   47   blue-collar  married    unknown      no     1506     yes   no   \n",
       "4   33       unknown   single    unknown      no        1      no   no   \n",
       "\n",
       "   contact  day month  duration  campaign   y  is_subscribed  \n",
       "0  unknown    5   may       261         1  no              0  \n",
       "1  unknown    5   may       151         1  no              0  \n",
       "2  unknown    5   may        76         1  no              0  \n",
       "3  unknown    5   may        92         1  no              0  \n",
       "4  unknown    5   may       198         1  no              0  "
      ]
     },
     "execution_count": 36,
     "metadata": {},
     "output_type": "execute_result"
    }
   ],
   "source": [
    "# -) Created a binary outcome variable (for \"y\") called is_subscribed that takes the value 1 if y = yes and 0 otherwise.\n",
    "\n",
    "deposit_df['is_subscribed'] = [1 if status == 'yes' else 0 for status in deposit_df['y']]\n",
    "deposit_df.head()"
   ]
  },
  {
   "cell_type": "code",
   "execution_count": 8,
   "id": "9f97b2fe",
   "metadata": {},
   "outputs": [
    {
     "data": {
      "text/html": [
       "<div>\n",
       "<style scoped>\n",
       "    .dataframe tbody tr th:only-of-type {\n",
       "        vertical-align: middle;\n",
       "    }\n",
       "\n",
       "    .dataframe tbody tr th {\n",
       "        vertical-align: top;\n",
       "    }\n",
       "\n",
       "    .dataframe thead th {\n",
       "        text-align: right;\n",
       "    }\n",
       "</style>\n",
       "<table border=\"1\" class=\"dataframe\">\n",
       "  <thead>\n",
       "    <tr style=\"text-align: right;\">\n",
       "      <th></th>\n",
       "      <th>age</th>\n",
       "      <th>job</th>\n",
       "      <th>marital</th>\n",
       "      <th>education</th>\n",
       "      <th>default</th>\n",
       "      <th>balance</th>\n",
       "      <th>housing</th>\n",
       "      <th>loan</th>\n",
       "      <th>contact</th>\n",
       "      <th>day</th>\n",
       "      <th>month</th>\n",
       "      <th>duration</th>\n",
       "      <th>campaign</th>\n",
       "      <th>is_subscribed</th>\n",
       "    </tr>\n",
       "  </thead>\n",
       "  <tbody>\n",
       "    <tr>\n",
       "      <th>0</th>\n",
       "      <td>58</td>\n",
       "      <td>management</td>\n",
       "      <td>married</td>\n",
       "      <td>tertiary</td>\n",
       "      <td>no</td>\n",
       "      <td>2143</td>\n",
       "      <td>yes</td>\n",
       "      <td>no</td>\n",
       "      <td>unknown</td>\n",
       "      <td>5</td>\n",
       "      <td>may</td>\n",
       "      <td>261</td>\n",
       "      <td>1</td>\n",
       "      <td>0</td>\n",
       "    </tr>\n",
       "    <tr>\n",
       "      <th>1</th>\n",
       "      <td>44</td>\n",
       "      <td>technician</td>\n",
       "      <td>single</td>\n",
       "      <td>secondary</td>\n",
       "      <td>no</td>\n",
       "      <td>29</td>\n",
       "      <td>yes</td>\n",
       "      <td>no</td>\n",
       "      <td>unknown</td>\n",
       "      <td>5</td>\n",
       "      <td>may</td>\n",
       "      <td>151</td>\n",
       "      <td>1</td>\n",
       "      <td>0</td>\n",
       "    </tr>\n",
       "    <tr>\n",
       "      <th>2</th>\n",
       "      <td>33</td>\n",
       "      <td>entrepreneur</td>\n",
       "      <td>married</td>\n",
       "      <td>secondary</td>\n",
       "      <td>no</td>\n",
       "      <td>2</td>\n",
       "      <td>yes</td>\n",
       "      <td>yes</td>\n",
       "      <td>unknown</td>\n",
       "      <td>5</td>\n",
       "      <td>may</td>\n",
       "      <td>76</td>\n",
       "      <td>1</td>\n",
       "      <td>0</td>\n",
       "    </tr>\n",
       "    <tr>\n",
       "      <th>3</th>\n",
       "      <td>47</td>\n",
       "      <td>blue-collar</td>\n",
       "      <td>married</td>\n",
       "      <td>unknown</td>\n",
       "      <td>no</td>\n",
       "      <td>1506</td>\n",
       "      <td>yes</td>\n",
       "      <td>no</td>\n",
       "      <td>unknown</td>\n",
       "      <td>5</td>\n",
       "      <td>may</td>\n",
       "      <td>92</td>\n",
       "      <td>1</td>\n",
       "      <td>0</td>\n",
       "    </tr>\n",
       "    <tr>\n",
       "      <th>4</th>\n",
       "      <td>33</td>\n",
       "      <td>unknown</td>\n",
       "      <td>single</td>\n",
       "      <td>unknown</td>\n",
       "      <td>no</td>\n",
       "      <td>1</td>\n",
       "      <td>no</td>\n",
       "      <td>no</td>\n",
       "      <td>unknown</td>\n",
       "      <td>5</td>\n",
       "      <td>may</td>\n",
       "      <td>198</td>\n",
       "      <td>1</td>\n",
       "      <td>0</td>\n",
       "    </tr>\n",
       "  </tbody>\n",
       "</table>\n",
       "</div>"
      ],
      "text/plain": [
       "   age           job  marital  education default  balance housing loan  \\\n",
       "0   58    management  married   tertiary      no     2143     yes   no   \n",
       "1   44    technician   single  secondary      no       29     yes   no   \n",
       "2   33  entrepreneur  married  secondary      no        2     yes  yes   \n",
       "3   47   blue-collar  married    unknown      no     1506     yes   no   \n",
       "4   33       unknown   single    unknown      no        1      no   no   \n",
       "\n",
       "   contact  day month  duration  campaign  is_subscribed  \n",
       "0  unknown    5   may       261         1              0  \n",
       "1  unknown    5   may       151         1              0  \n",
       "2  unknown    5   may        76         1              0  \n",
       "3  unknown    5   may        92         1              0  \n",
       "4  unknown    5   may       198         1              0  "
      ]
     },
     "execution_count": 8,
     "metadata": {},
     "output_type": "execute_result"
    }
   ],
   "source": [
    "deposit_df = deposit_df.drop(\"y\", axis=1)\n",
    "\n",
    "deposit_df.head()"
   ]
  },
  {
   "cell_type": "code",
   "execution_count": 9,
   "id": "6bbe098a",
   "metadata": {},
   "outputs": [
    {
     "data": {
      "text/html": [
       "<div>\n",
       "<style scoped>\n",
       "    .dataframe tbody tr th:only-of-type {\n",
       "        vertical-align: middle;\n",
       "    }\n",
       "\n",
       "    .dataframe tbody tr th {\n",
       "        vertical-align: top;\n",
       "    }\n",
       "\n",
       "    .dataframe thead th {\n",
       "        text-align: right;\n",
       "    }\n",
       "</style>\n",
       "<table border=\"1\" class=\"dataframe\">\n",
       "  <thead>\n",
       "    <tr style=\"text-align: right;\">\n",
       "      <th></th>\n",
       "      <th>const</th>\n",
       "      <th>age</th>\n",
       "      <th>balance</th>\n",
       "      <th>day</th>\n",
       "      <th>duration</th>\n",
       "      <th>campaign</th>\n",
       "      <th>job_blue-collar</th>\n",
       "      <th>job_entrepreneur</th>\n",
       "      <th>job_housemaid</th>\n",
       "      <th>job_management</th>\n",
       "      <th>...</th>\n",
       "      <th>month_aug</th>\n",
       "      <th>month_dec</th>\n",
       "      <th>month_feb</th>\n",
       "      <th>month_jan</th>\n",
       "      <th>month_jul</th>\n",
       "      <th>month_jun</th>\n",
       "      <th>month_mar</th>\n",
       "      <th>month_may</th>\n",
       "      <th>month_nov</th>\n",
       "      <th>month_oct</th>\n",
       "    </tr>\n",
       "  </thead>\n",
       "  <tbody>\n",
       "    <tr>\n",
       "      <th>0</th>\n",
       "      <td>1.0</td>\n",
       "      <td>58</td>\n",
       "      <td>2143</td>\n",
       "      <td>5</td>\n",
       "      <td>261</td>\n",
       "      <td>1</td>\n",
       "      <td>0</td>\n",
       "      <td>0</td>\n",
       "      <td>0</td>\n",
       "      <td>1</td>\n",
       "      <td>...</td>\n",
       "      <td>0</td>\n",
       "      <td>0</td>\n",
       "      <td>0</td>\n",
       "      <td>0</td>\n",
       "      <td>0</td>\n",
       "      <td>0</td>\n",
       "      <td>0</td>\n",
       "      <td>1</td>\n",
       "      <td>0</td>\n",
       "      <td>0</td>\n",
       "    </tr>\n",
       "    <tr>\n",
       "      <th>1</th>\n",
       "      <td>1.0</td>\n",
       "      <td>44</td>\n",
       "      <td>29</td>\n",
       "      <td>5</td>\n",
       "      <td>151</td>\n",
       "      <td>1</td>\n",
       "      <td>0</td>\n",
       "      <td>0</td>\n",
       "      <td>0</td>\n",
       "      <td>0</td>\n",
       "      <td>...</td>\n",
       "      <td>0</td>\n",
       "      <td>0</td>\n",
       "      <td>0</td>\n",
       "      <td>0</td>\n",
       "      <td>0</td>\n",
       "      <td>0</td>\n",
       "      <td>0</td>\n",
       "      <td>1</td>\n",
       "      <td>0</td>\n",
       "      <td>0</td>\n",
       "    </tr>\n",
       "    <tr>\n",
       "      <th>2</th>\n",
       "      <td>1.0</td>\n",
       "      <td>33</td>\n",
       "      <td>2</td>\n",
       "      <td>5</td>\n",
       "      <td>76</td>\n",
       "      <td>1</td>\n",
       "      <td>0</td>\n",
       "      <td>1</td>\n",
       "      <td>0</td>\n",
       "      <td>0</td>\n",
       "      <td>...</td>\n",
       "      <td>0</td>\n",
       "      <td>0</td>\n",
       "      <td>0</td>\n",
       "      <td>0</td>\n",
       "      <td>0</td>\n",
       "      <td>0</td>\n",
       "      <td>0</td>\n",
       "      <td>1</td>\n",
       "      <td>0</td>\n",
       "      <td>0</td>\n",
       "    </tr>\n",
       "    <tr>\n",
       "      <th>3</th>\n",
       "      <td>1.0</td>\n",
       "      <td>47</td>\n",
       "      <td>1506</td>\n",
       "      <td>5</td>\n",
       "      <td>92</td>\n",
       "      <td>1</td>\n",
       "      <td>1</td>\n",
       "      <td>0</td>\n",
       "      <td>0</td>\n",
       "      <td>0</td>\n",
       "      <td>...</td>\n",
       "      <td>0</td>\n",
       "      <td>0</td>\n",
       "      <td>0</td>\n",
       "      <td>0</td>\n",
       "      <td>0</td>\n",
       "      <td>0</td>\n",
       "      <td>0</td>\n",
       "      <td>1</td>\n",
       "      <td>0</td>\n",
       "      <td>0</td>\n",
       "    </tr>\n",
       "    <tr>\n",
       "      <th>4</th>\n",
       "      <td>1.0</td>\n",
       "      <td>33</td>\n",
       "      <td>1</td>\n",
       "      <td>5</td>\n",
       "      <td>198</td>\n",
       "      <td>1</td>\n",
       "      <td>0</td>\n",
       "      <td>0</td>\n",
       "      <td>0</td>\n",
       "      <td>0</td>\n",
       "      <td>...</td>\n",
       "      <td>0</td>\n",
       "      <td>0</td>\n",
       "      <td>0</td>\n",
       "      <td>0</td>\n",
       "      <td>0</td>\n",
       "      <td>0</td>\n",
       "      <td>0</td>\n",
       "      <td>1</td>\n",
       "      <td>0</td>\n",
       "      <td>0</td>\n",
       "    </tr>\n",
       "  </tbody>\n",
       "</table>\n",
       "<p>5 rows × 37 columns</p>\n",
       "</div>"
      ],
      "text/plain": [
       "   const  age  balance  day  duration  campaign  job_blue-collar  \\\n",
       "0    1.0   58     2143    5       261         1                0   \n",
       "1    1.0   44       29    5       151         1                0   \n",
       "2    1.0   33        2    5        76         1                0   \n",
       "3    1.0   47     1506    5        92         1                1   \n",
       "4    1.0   33        1    5       198         1                0   \n",
       "\n",
       "   job_entrepreneur  job_housemaid  job_management  ...  month_aug  month_dec  \\\n",
       "0                 0              0               1  ...          0          0   \n",
       "1                 0              0               0  ...          0          0   \n",
       "2                 1              0               0  ...          0          0   \n",
       "3                 0              0               0  ...          0          0   \n",
       "4                 0              0               0  ...          0          0   \n",
       "\n",
       "   month_feb  month_jan  month_jul  month_jun  month_mar  month_may  \\\n",
       "0          0          0          0          0          0          1   \n",
       "1          0          0          0          0          0          1   \n",
       "2          0          0          0          0          0          1   \n",
       "3          0          0          0          0          0          1   \n",
       "4          0          0          0          0          0          1   \n",
       "\n",
       "   month_nov  month_oct  \n",
       "0          0          0  \n",
       "1          0          0  \n",
       "2          0          0  \n",
       "3          0          0  \n",
       "4          0          0  \n",
       "\n",
       "[5 rows x 37 columns]"
      ]
     },
     "execution_count": 9,
     "metadata": {},
     "output_type": "execute_result"
    }
   ],
   "source": [
    "X_features = list(deposit_df.columns)\n",
    "X_features.remove('is_subscribed')\n",
    "\n",
    "outcome = 'is_subscribed'\n",
    "\n",
    "X_df = pd.get_dummies(deposit_df[X_features], drop_first=True)\n",
    "X = sm.add_constant(X_df)\n",
    "y = deposit_df[outcome]\n",
    "X.head()\n",
    "\n"
   ]
  },
  {
   "cell_type": "code",
   "execution_count": 10,
   "id": "33cc347f",
   "metadata": {},
   "outputs": [],
   "source": [
    "X_train, X_test, y_train, y_test = train_test_split(X, y, random_state=800)"
   ]
  },
  {
   "cell_type": "code",
   "execution_count": 11,
   "id": "23dfa252",
   "metadata": {},
   "outputs": [
    {
     "data": {
      "text/plain": [
       "0.9232"
      ]
     },
     "execution_count": 11,
     "metadata": {},
     "output_type": "execute_result"
    }
   ],
   "source": [
    "from sklearn.neighbors import KNeighborsClassifier\n",
    "from sklearn import metrics\n",
    "\n",
    "\n",
    "knn = KNeighborsClassifier(n_neighbors=5)\n",
    "knn.fit(X_train, y_train)\n",
    "y_pred = knn.predict(X_test)\n",
    "metrics.accuracy_score(y_test, y_pred)"
   ]
  },
  {
   "cell_type": "code",
   "execution_count": 12,
   "id": "fb921fab",
   "metadata": {},
   "outputs": [],
   "source": [
    "#success metrics\n",
    "\n",
    "from sklearn.model_selection import cross_val_score"
   ]
  },
  {
   "cell_type": "code",
   "execution_count": 13,
   "id": "f3c232e6",
   "metadata": {},
   "outputs": [
    {
     "name": "stdout",
     "output_type": "stream",
     "text": [
      "[0.931875 0.93325  0.924875 0.916125 0.920875]\n"
     ]
    }
   ],
   "source": [
    "knn = KNeighborsClassifier(n_neighbors=5)\n",
    "scores = cross_val_score(knn, X, y, cv=5, scoring='accuracy')\n",
    "print(scores)"
   ]
  },
  {
   "cell_type": "code",
   "execution_count": 14,
   "id": "192990b5",
   "metadata": {},
   "outputs": [
    {
     "name": "stdout",
     "output_type": "stream",
     "text": [
      "0.9254\n"
     ]
    }
   ],
   "source": [
    "#average performance score is 92.54% which is larger than 81% by 11.54%\n",
    "\n",
    "\n",
    "print(scores.mean())"
   ]
  },
  {
   "cell_type": "code",
   "execution_count": 15,
   "id": "7aa51937",
   "metadata": {},
   "outputs": [
    {
     "name": "stdout",
     "output_type": "stream",
     "text": [
      "///////////////////////////////////\n",
      "age\n",
      "-----------------------------------\n",
      "///////////////////////////////////\n",
      "balance\n",
      "-----------------------------------\n",
      "///////////////////////////////////\n",
      "day\n",
      "-----------------------------------\n",
      "///////////////////////////////////\n",
      "duration\n",
      "-----------------------------------\n",
      "///////////////////////////////////\n",
      "campaign\n",
      "-----------------------------------\n",
      "///////////////////////////////////\n",
      "is_subscribed\n",
      "-----------------------------------\n"
     ]
    }
   ],
   "source": [
    "#BONUS PART\n",
    "\n",
    "#- There is no multicollinearity based on correlation matrix\n",
    "\n",
    "corr_df = deposit_df.corr()\n",
    "row_name = []\n",
    "for item in corr_df:\n",
    "    row_name.append(item)\n",
    "for item2 in corr_df:\n",
    "    print(\"/\"*35)\n",
    "    print(item2)\n",
    "    print(\"-\"*35)\n",
    "    for item3 in row_name:\n",
    "        if corr_df[item2][item3] < -0.7 or corr_df[item2][item3] > 0.7 and corr_df[item2][item3] != 1 :\n",
    "            print(corr_df[item2][item3],item3)\n",
    "        else:\n",
    "            continue"
   ]
  },
  {
   "cell_type": "code",
   "execution_count": 16,
   "id": "b3c593f4",
   "metadata": {},
   "outputs": [],
   "source": [
    "# In order for finding customers who are more likely to buy the investment product, I decided to run logistic regresssion\n",
    "\n",
    "# After running logistic regression I eliminated insignificant variables (p>0.05) as they have no impact on the subscription deecision"
   ]
  },
  {
   "cell_type": "code",
   "execution_count": 17,
   "id": "5f507a61",
   "metadata": {},
   "outputs": [],
   "source": [
    "train_X, test_X, train_y, test_y = train_test_split(X, y, test_size = 0.2, random_state = 22)"
   ]
  },
  {
   "cell_type": "code",
   "execution_count": 18,
   "id": "b45fefe5",
   "metadata": {},
   "outputs": [
    {
     "name": "stdout",
     "output_type": "stream",
     "text": [
      "Optimization terminated successfully.\n",
      "         Current function value: 0.166524\n",
      "         Iterations 8\n"
     ]
    }
   ],
   "source": [
    "logit = sm.Logit(train_y, train_X)\n",
    "logit_model = logit.fit()"
   ]
  },
  {
   "cell_type": "code",
   "execution_count": 19,
   "id": "fdaca479",
   "metadata": {},
   "outputs": [
    {
     "data": {
      "text/html": [
       "<table class=\"simpletable\">\n",
       "<tr>\n",
       "        <td>Model:</td>              <td>Logit</td>      <td>Pseudo R-squared:</td>    <td>0.361</td>  \n",
       "</tr>\n",
       "<tr>\n",
       "  <td>Dependent Variable:</td>   <td>is_subscribed</td>        <td>AIC:</td>        <td>10731.5326</td>\n",
       "</tr>\n",
       "<tr>\n",
       "         <td>Date:</td>        <td>2022-01-19 01:06</td>       <td>BIC:</td>        <td>11041.3518</td>\n",
       "</tr>\n",
       "<tr>\n",
       "   <td>No. Observations:</td>        <td>32000</td>       <td>Log-Likelihood:</td>    <td>-5328.8</td> \n",
       "</tr>\n",
       "<tr>\n",
       "       <td>Df Model:</td>             <td>36</td>            <td>LL-Null:</td>        <td>-8334.6</td> \n",
       "</tr>\n",
       "<tr>\n",
       "     <td>Df Residuals:</td>          <td>31963</td>        <td>LLR p-value:</td>      <td>0.0000</td>  \n",
       "</tr>\n",
       "<tr>\n",
       "      <td>Converged:</td>           <td>1.0000</td>           <td>Scale:</td>         <td>1.0000</td>  \n",
       "</tr>\n",
       "<tr>\n",
       "    <td>No. Iterations:</td>        <td>8.0000</td>              <td></td>               <td></td>     \n",
       "</tr>\n",
       "</table>\n",
       "<table class=\"simpletable\">\n",
       "<tr>\n",
       "           <td></td>            <th>Coef.</th>  <th>Std.Err.</th>     <th>z</th>     <th>P>|z|</th> <th>[0.025</th>  <th>0.975]</th> \n",
       "</tr>\n",
       "<tr>\n",
       "  <th>const</th>               <td>-3.0353</td>  <td>0.2372</td>  <td>-12.7960</td> <td>0.0000</td> <td>-3.5002</td> <td>-2.5704</td>\n",
       "</tr>\n",
       "<tr>\n",
       "  <th>age</th>                 <td>-0.0041</td>  <td>0.0034</td>   <td>-1.2161</td> <td>0.2240</td> <td>-0.0108</td> <td>0.0025</td> \n",
       "</tr>\n",
       "<tr>\n",
       "  <th>balance</th>             <td>0.0000</td>   <td>0.0000</td>   <td>2.3773</td>  <td>0.0174</td> <td>0.0000</td>  <td>0.0000</td> \n",
       "</tr>\n",
       "<tr>\n",
       "  <th>day</th>                 <td>0.0357</td>   <td>0.0040</td>   <td>8.9401</td>  <td>0.0000</td> <td>0.0278</td>  <td>0.0435</td> \n",
       "</tr>\n",
       "<tr>\n",
       "  <th>duration</th>            <td>0.0049</td>   <td>0.0001</td>   <td>56.5072</td> <td>0.0000</td> <td>0.0047</td>  <td>0.0051</td> \n",
       "</tr>\n",
       "<tr>\n",
       "  <th>campaign</th>            <td>-0.0499</td>  <td>0.0129</td>   <td>-3.8693</td> <td>0.0001</td> <td>-0.0752</td> <td>-0.0246</td>\n",
       "</tr>\n",
       "<tr>\n",
       "  <th>job_blue-collar</th>     <td>-0.3077</td>  <td>0.1007</td>   <td>-3.0565</td> <td>0.0022</td> <td>-0.5049</td> <td>-0.1104</td>\n",
       "</tr>\n",
       "<tr>\n",
       "  <th>job_entrepreneur</th>    <td>-0.3830</td>  <td>0.1762</td>   <td>-2.1731</td> <td>0.0298</td> <td>-0.7284</td> <td>-0.0376</td>\n",
       "</tr>\n",
       "<tr>\n",
       "  <th>job_housemaid</th>       <td>-0.7191</td>  <td>0.2130</td>   <td>-3.3760</td> <td>0.0007</td> <td>-1.1366</td> <td>-0.3016</td>\n",
       "</tr>\n",
       "<tr>\n",
       "  <th>job_management</th>      <td>-0.1555</td>  <td>0.1089</td>   <td>-1.4279</td> <td>0.1533</td> <td>-0.3689</td> <td>0.0579</td> \n",
       "</tr>\n",
       "<tr>\n",
       "  <th>job_retired</th>         <td>0.2473</td>   <td>0.1578</td>   <td>1.5672</td>  <td>0.1171</td> <td>-0.0620</td> <td>0.5565</td> \n",
       "</tr>\n",
       "<tr>\n",
       "  <th>job_self-employed</th>   <td>-0.2475</td>  <td>0.1614</td>   <td>-1.5333</td> <td>0.1252</td> <td>-0.5638</td> <td>0.0689</td> \n",
       "</tr>\n",
       "<tr>\n",
       "  <th>job_services</th>        <td>-0.3748</td>  <td>0.1197</td>   <td>-3.1305</td> <td>0.0017</td> <td>-0.6094</td> <td>-0.1401</td>\n",
       "</tr>\n",
       "<tr>\n",
       "  <th>job_student</th>         <td>0.3343</td>   <td>0.1856</td>   <td>1.8010</td>  <td>0.0717</td> <td>-0.0295</td> <td>0.6980</td> \n",
       "</tr>\n",
       "<tr>\n",
       "  <th>job_technician</th>      <td>-0.1374</td>  <td>0.0995</td>   <td>-1.3816</td> <td>0.1671</td> <td>-0.3324</td> <td>0.0575</td> \n",
       "</tr>\n",
       "<tr>\n",
       "  <th>job_unemployed</th>      <td>-0.2933</td>  <td>0.1669</td>   <td>-1.7577</td> <td>0.0788</td> <td>-0.6204</td> <td>0.0337</td> \n",
       "</tr>\n",
       "<tr>\n",
       "  <th>job_unknown</th>         <td>0.0144</td>   <td>0.3554</td>   <td>0.0406</td>  <td>0.9676</td> <td>-0.6822</td> <td>0.7110</td> \n",
       "</tr>\n",
       "<tr>\n",
       "  <th>marital_married</th>     <td>-0.3632</td>  <td>0.0822</td>   <td>-4.4202</td> <td>0.0000</td> <td>-0.5243</td> <td>-0.2022</td>\n",
       "</tr>\n",
       "<tr>\n",
       "  <th>marital_single</th>      <td>-0.0643</td>  <td>0.0931</td>   <td>-0.6907</td> <td>0.4897</td> <td>-0.2468</td> <td>0.1182</td> \n",
       "</tr>\n",
       "<tr>\n",
       "  <th>education_secondary</th> <td>0.1200</td>   <td>0.0928</td>   <td>1.2934</td>  <td>0.1959</td> <td>-0.0618</td> <td>0.3018</td> \n",
       "</tr>\n",
       "<tr>\n",
       "  <th>education_tertiary</th>  <td>0.2735</td>   <td>0.1105</td>   <td>2.4756</td>  <td>0.0133</td> <td>0.0570</td>  <td>0.4900</td> \n",
       "</tr>\n",
       "<tr>\n",
       "  <th>education_unknown</th>   <td>-0.1151</td>  <td>0.1692</td>   <td>-0.6803</td> <td>0.4963</td> <td>-0.4467</td> <td>0.2165</td> \n",
       "</tr>\n",
       "<tr>\n",
       "  <th>default_yes</th>         <td>0.3573</td>   <td>0.1857</td>   <td>1.9235</td>  <td>0.0544</td> <td>-0.0068</td> <td>0.7213</td> \n",
       "</tr>\n",
       "<tr>\n",
       "  <th>housing_yes</th>         <td>-0.6624</td>  <td>0.0635</td>  <td>-10.4264</td> <td>0.0000</td> <td>-0.7869</td> <td>-0.5379</td>\n",
       "</tr>\n",
       "<tr>\n",
       "  <th>loan_yes</th>            <td>-0.2383</td>  <td>0.0796</td>   <td>-2.9919</td> <td>0.0028</td> <td>-0.3943</td> <td>-0.0822</td>\n",
       "</tr>\n",
       "<tr>\n",
       "  <th>contact_telephone</th>   <td>-0.3802</td>  <td>0.1334</td>   <td>-2.8507</td> <td>0.0044</td> <td>-0.6416</td> <td>-0.1188</td>\n",
       "</tr>\n",
       "<tr>\n",
       "  <th>contact_unknown</th>     <td>-2.0005</td>  <td>0.1019</td>  <td>-19.6413</td> <td>0.0000</td> <td>-2.2002</td> <td>-1.8009</td>\n",
       "</tr>\n",
       "<tr>\n",
       "  <th>month_aug</th>           <td>-1.4894</td>  <td>0.1173</td>  <td>-12.7002</td> <td>0.0000</td> <td>-1.7192</td> <td>-1.2595</td>\n",
       "</tr>\n",
       "<tr>\n",
       "  <th>month_dec</th>           <td>0.6265</td>   <td>1.0723</td>   <td>0.5842</td>  <td>0.5591</td> <td>-1.4753</td> <td>2.7282</td> \n",
       "</tr>\n",
       "<tr>\n",
       "  <th>month_feb</th>           <td>-0.0713</td>  <td>0.1269</td>   <td>-0.5615</td> <td>0.5744</td> <td>-0.3200</td> <td>0.1775</td> \n",
       "</tr>\n",
       "<tr>\n",
       "  <th>month_jan</th>           <td>-3.1170</td>  <td>0.2548</td>  <td>-12.2329</td> <td>0.0000</td> <td>-3.6165</td> <td>-2.6176</td>\n",
       "</tr>\n",
       "<tr>\n",
       "  <th>month_jul</th>           <td>-1.5596</td>  <td>0.1053</td>  <td>-14.8123</td> <td>0.0000</td> <td>-1.7659</td> <td>-1.3532</td>\n",
       "</tr>\n",
       "<tr>\n",
       "  <th>month_jun</th>           <td>0.7151</td>   <td>0.1471</td>   <td>4.8613</td>  <td>0.0000</td> <td>0.4268</td>  <td>1.0035</td> \n",
       "</tr>\n",
       "<tr>\n",
       "  <th>month_mar</th>           <td>2.0554</td>   <td>0.1716</td>   <td>11.9789</td> <td>0.0000</td> <td>1.7191</td>  <td>2.3917</td> \n",
       "</tr>\n",
       "<tr>\n",
       "  <th>month_may</th>           <td>-0.2724</td>  <td>0.0913</td>   <td>-2.9824</td> <td>0.0029</td> <td>-0.4514</td> <td>-0.0934</td>\n",
       "</tr>\n",
       "<tr>\n",
       "  <th>month_nov</th>           <td>-1.4407</td>  <td>0.1185</td>  <td>-12.1557</td> <td>0.0000</td> <td>-1.6730</td> <td>-1.2084</td>\n",
       "</tr>\n",
       "<tr>\n",
       "  <th>month_oct</th>           <td>3.6238</td>   <td>0.3259</td>   <td>11.1185</td> <td>0.0000</td> <td>2.9850</td>  <td>4.2626</td> \n",
       "</tr>\n",
       "</table>"
      ],
      "text/plain": [
       "<class 'statsmodels.iolib.summary2.Summary'>\n",
       "\"\"\"\n",
       "                           Results: Logit\n",
       "====================================================================\n",
       "Model:               Logit             Pseudo R-squared:  0.361     \n",
       "Dependent Variable:  is_subscribed     AIC:               10731.5326\n",
       "Date:                2022-01-19 01:06  BIC:               11041.3518\n",
       "No. Observations:    32000             Log-Likelihood:    -5328.8   \n",
       "Df Model:            36                LL-Null:           -8334.6   \n",
       "Df Residuals:        31963             LLR p-value:       0.0000    \n",
       "Converged:           1.0000            Scale:             1.0000    \n",
       "No. Iterations:      8.0000                                         \n",
       "--------------------------------------------------------------------\n",
       "                     Coef.  Std.Err.    z     P>|z|   [0.025  0.975]\n",
       "--------------------------------------------------------------------\n",
       "const               -3.0353   0.2372 -12.7960 0.0000 -3.5002 -2.5704\n",
       "age                 -0.0041   0.0034  -1.2161 0.2240 -0.0108  0.0025\n",
       "balance              0.0000   0.0000   2.3773 0.0174  0.0000  0.0000\n",
       "day                  0.0357   0.0040   8.9401 0.0000  0.0278  0.0435\n",
       "duration             0.0049   0.0001  56.5072 0.0000  0.0047  0.0051\n",
       "campaign            -0.0499   0.0129  -3.8693 0.0001 -0.0752 -0.0246\n",
       "job_blue-collar     -0.3077   0.1007  -3.0565 0.0022 -0.5049 -0.1104\n",
       "job_entrepreneur    -0.3830   0.1762  -2.1731 0.0298 -0.7284 -0.0376\n",
       "job_housemaid       -0.7191   0.2130  -3.3760 0.0007 -1.1366 -0.3016\n",
       "job_management      -0.1555   0.1089  -1.4279 0.1533 -0.3689  0.0579\n",
       "job_retired          0.2473   0.1578   1.5672 0.1171 -0.0620  0.5565\n",
       "job_self-employed   -0.2475   0.1614  -1.5333 0.1252 -0.5638  0.0689\n",
       "job_services        -0.3748   0.1197  -3.1305 0.0017 -0.6094 -0.1401\n",
       "job_student          0.3343   0.1856   1.8010 0.0717 -0.0295  0.6980\n",
       "job_technician      -0.1374   0.0995  -1.3816 0.1671 -0.3324  0.0575\n",
       "job_unemployed      -0.2933   0.1669  -1.7577 0.0788 -0.6204  0.0337\n",
       "job_unknown          0.0144   0.3554   0.0406 0.9676 -0.6822  0.7110\n",
       "marital_married     -0.3632   0.0822  -4.4202 0.0000 -0.5243 -0.2022\n",
       "marital_single      -0.0643   0.0931  -0.6907 0.4897 -0.2468  0.1182\n",
       "education_secondary  0.1200   0.0928   1.2934 0.1959 -0.0618  0.3018\n",
       "education_tertiary   0.2735   0.1105   2.4756 0.0133  0.0570  0.4900\n",
       "education_unknown   -0.1151   0.1692  -0.6803 0.4963 -0.4467  0.2165\n",
       "default_yes          0.3573   0.1857   1.9235 0.0544 -0.0068  0.7213\n",
       "housing_yes         -0.6624   0.0635 -10.4264 0.0000 -0.7869 -0.5379\n",
       "loan_yes            -0.2383   0.0796  -2.9919 0.0028 -0.3943 -0.0822\n",
       "contact_telephone   -0.3802   0.1334  -2.8507 0.0044 -0.6416 -0.1188\n",
       "contact_unknown     -2.0005   0.1019 -19.6413 0.0000 -2.2002 -1.8009\n",
       "month_aug           -1.4894   0.1173 -12.7002 0.0000 -1.7192 -1.2595\n",
       "month_dec            0.6265   1.0723   0.5842 0.5591 -1.4753  2.7282\n",
       "month_feb           -0.0713   0.1269  -0.5615 0.5744 -0.3200  0.1775\n",
       "month_jan           -3.1170   0.2548 -12.2329 0.0000 -3.6165 -2.6176\n",
       "month_jul           -1.5596   0.1053 -14.8123 0.0000 -1.7659 -1.3532\n",
       "month_jun            0.7151   0.1471   4.8613 0.0000  0.4268  1.0035\n",
       "month_mar            2.0554   0.1716  11.9789 0.0000  1.7191  2.3917\n",
       "month_may           -0.2724   0.0913  -2.9824 0.0029 -0.4514 -0.0934\n",
       "month_nov           -1.4407   0.1185 -12.1557 0.0000 -1.6730 -1.2084\n",
       "month_oct            3.6238   0.3259  11.1185 0.0000  2.9850  4.2626\n",
       "====================================================================\n",
       "\n",
       "\"\"\""
      ]
     },
     "execution_count": 19,
     "metadata": {},
     "output_type": "execute_result"
    }
   ],
   "source": [
    "logit_model.summary2()"
   ]
  },
  {
   "cell_type": "code",
   "execution_count": 20,
   "id": "9b530e31",
   "metadata": {},
   "outputs": [
    {
     "name": "stdout",
     "output_type": "stream",
     "text": [
      "Dropping job_unknown and running regression again because pvalue is: 0.9676343056536919\n",
      "Optimization terminated successfully.\n",
      "         Current function value: 0.166524\n",
      "         Iterations 8\n",
      "Dropping month_feb and running regression again because pvalue is: 0.5744214925517973\n",
      "Optimization terminated successfully.\n",
      "         Current function value: 0.166529\n",
      "         Iterations 8\n",
      "Dropping month_dec and running regression again because pvalue is: 0.5382189652958143\n",
      "Optimization terminated successfully.\n",
      "         Current function value: 0.166534\n",
      "         Iterations 8\n",
      "Dropping education_unknown and running regression again because pvalue is: 0.49455418210787294\n",
      "Optimization terminated successfully.\n",
      "         Current function value: 0.166541\n",
      "         Iterations 8\n",
      "Dropping marital_single and running regression again because pvalue is: 0.4739067600189124\n",
      "Optimization terminated successfully.\n",
      "         Current function value: 0.166549\n",
      "         Iterations 8\n",
      "Dropping age and running regression again because pvalue is: 0.2976655061351199\n",
      "Optimization terminated successfully.\n",
      "         Current function value: 0.166566\n",
      "         Iterations 8\n",
      "Dropping job_retired and running regression again because pvalue is: 0.18951390098228182\n",
      "Optimization terminated successfully.\n",
      "         Current function value: 0.166593\n",
      "         Iterations 8\n",
      "Dropping job_student and running regression again because pvalue is: 0.0860019679630865\n",
      "Optimization terminated successfully.\n",
      "         Current function value: 0.166637\n",
      "         Iterations 8\n",
      "Dropping education_secondary and running regression again because pvalue is: 0.08485628587776525\n",
      "Optimization terminated successfully.\n",
      "         Current function value: 0.166684\n",
      "         Iterations 8\n",
      "Dropping default_yes and running regression again because pvalue is: 0.0513543850695154\n",
      "Optimization terminated successfully.\n",
      "         Current function value: 0.166740\n",
      "         Iterations 8\n",
      "All p values less than 0.05\n",
      "Index(['balance', 'day', 'duration', 'campaign', 'job_blue-collar',\n",
      "       'job_entrepreneur', 'job_housemaid', 'job_management',\n",
      "       'job_self-employed', 'job_services', 'job_technician', 'job_unemployed',\n",
      "       'marital_married', 'education_tertiary', 'housing_yes', 'loan_yes',\n",
      "       'contact_telephone', 'contact_unknown', 'month_aug', 'month_jan',\n",
      "       'month_jul', 'month_jun', 'month_mar', 'month_may', 'month_nov',\n",
      "       'month_oct'],\n",
      "      dtype='object')\n",
      "Optimization terminated successfully.\n",
      "         Current function value: 0.166740\n",
      "         Iterations 8\n"
     ]
    },
    {
     "data": {
      "text/html": [
       "<table class=\"simpletable\">\n",
       "<tr>\n",
       "        <td>Model:</td>              <td>Logit</td>      <td>Pseudo R-squared:</td>    <td>0.360</td>  \n",
       "</tr>\n",
       "<tr>\n",
       "  <td>Dependent Variable:</td>   <td>is_subscribed</td>        <td>AIC:</td>        <td>10725.3463</td>\n",
       "</tr>\n",
       "<tr>\n",
       "         <td>Date:</td>        <td>2022-01-19 01:06</td>       <td>BIC:</td>        <td>10951.4306</td>\n",
       "</tr>\n",
       "<tr>\n",
       "   <td>No. Observations:</td>        <td>32000</td>       <td>Log-Likelihood:</td>    <td>-5335.7</td> \n",
       "</tr>\n",
       "<tr>\n",
       "       <td>Df Model:</td>             <td>26</td>            <td>LL-Null:</td>        <td>-8334.6</td> \n",
       "</tr>\n",
       "<tr>\n",
       "     <td>Df Residuals:</td>          <td>31973</td>        <td>LLR p-value:</td>      <td>0.0000</td>  \n",
       "</tr>\n",
       "<tr>\n",
       "      <td>Converged:</td>           <td>1.0000</td>           <td>Scale:</td>         <td>1.0000</td>  \n",
       "</tr>\n",
       "<tr>\n",
       "    <td>No. Iterations:</td>        <td>8.0000</td>              <td></td>               <td></td>     \n",
       "</tr>\n",
       "</table>\n",
       "<table class=\"simpletable\">\n",
       "<tr>\n",
       "           <td></td>           <th>Coef.</th>  <th>Std.Err.</th>     <th>z</th>     <th>P>|z|</th> <th>[0.025</th>  <th>0.975]</th> \n",
       "</tr>\n",
       "<tr>\n",
       "  <th>const</th>              <td>-3.0877</td>  <td>0.1057</td>  <td>-29.2233</td> <td>0.0000</td> <td>-3.2948</td> <td>-2.8806</td>\n",
       "</tr>\n",
       "<tr>\n",
       "  <th>balance</th>            <td>0.0000</td>   <td>0.0000</td>   <td>2.2009</td>  <td>0.0277</td> <td>0.0000</td>  <td>0.0000</td> \n",
       "</tr>\n",
       "<tr>\n",
       "  <th>day</th>                <td>0.0367</td>   <td>0.0036</td>   <td>10.2254</td> <td>0.0000</td> <td>0.0296</td>  <td>0.0437</td> \n",
       "</tr>\n",
       "<tr>\n",
       "  <th>duration</th>           <td>0.0049</td>   <td>0.0001</td>   <td>56.6603</td> <td>0.0000</td> <td>0.0047</td>  <td>0.0051</td> \n",
       "</tr>\n",
       "<tr>\n",
       "  <th>campaign</th>           <td>-0.0512</td>  <td>0.0129</td>   <td>-3.9846</td> <td>0.0001</td> <td>-0.0764</td> <td>-0.0260</td>\n",
       "</tr>\n",
       "<tr>\n",
       "  <th>job_blue-collar</th>    <td>-0.4029</td>  <td>0.0865</td>   <td>-4.6577</td> <td>0.0000</td> <td>-0.5724</td> <td>-0.2334</td>\n",
       "</tr>\n",
       "<tr>\n",
       "  <th>job_entrepreneur</th>   <td>-0.4696</td>  <td>0.1687</td>   <td>-2.7833</td> <td>0.0054</td> <td>-0.8002</td> <td>-0.1389</td>\n",
       "</tr>\n",
       "<tr>\n",
       "  <th>job_housemaid</th>      <td>-0.8575</td>  <td>0.2032</td>   <td>-4.2201</td> <td>0.0000</td> <td>-1.2558</td> <td>-0.4593</td>\n",
       "</tr>\n",
       "<tr>\n",
       "  <th>job_management</th>     <td>-0.2513</td>  <td>0.0960</td>   <td>-2.6181</td> <td>0.0088</td> <td>-0.4394</td> <td>-0.0632</td>\n",
       "</tr>\n",
       "<tr>\n",
       "  <th>job_self-employed</th>  <td>-0.3351</td>  <td>0.1536</td>   <td>-2.1819</td> <td>0.0291</td> <td>-0.6361</td> <td>-0.0341</td>\n",
       "</tr>\n",
       "<tr>\n",
       "  <th>job_services</th>       <td>-0.4363</td>  <td>0.1112</td>   <td>-3.9227</td> <td>0.0001</td> <td>-0.6542</td> <td>-0.2183</td>\n",
       "</tr>\n",
       "<tr>\n",
       "  <th>job_technician</th>     <td>-0.2059</td>  <td>0.0878</td>   <td>-2.3445</td> <td>0.0191</td> <td>-0.3781</td> <td>-0.0338</td>\n",
       "</tr>\n",
       "<tr>\n",
       "  <th>job_unemployed</th>     <td>-0.3995</td>  <td>0.1585</td>   <td>-2.5204</td> <td>0.0117</td> <td>-0.7101</td> <td>-0.0888</td>\n",
       "</tr>\n",
       "<tr>\n",
       "  <th>marital_married</th>    <td>-0.3486</td>  <td>0.0543</td>   <td>-6.4196</td> <td>0.0000</td> <td>-0.4550</td> <td>-0.2422</td>\n",
       "</tr>\n",
       "<tr>\n",
       "  <th>education_tertiary</th> <td>0.1991</td>   <td>0.0747</td>   <td>2.6671</td>  <td>0.0076</td> <td>0.0528</td>  <td>0.3455</td> \n",
       "</tr>\n",
       "<tr>\n",
       "  <th>housing_yes</th>        <td>-0.6562</td>  <td>0.0614</td>  <td>-10.6906</td> <td>0.0000</td> <td>-0.7765</td> <td>-0.5359</td>\n",
       "</tr>\n",
       "<tr>\n",
       "  <th>loan_yes</th>           <td>-0.2246</td>  <td>0.0791</td>   <td>-2.8387</td> <td>0.0045</td> <td>-0.3797</td> <td>-0.0695</td>\n",
       "</tr>\n",
       "<tr>\n",
       "  <th>contact_telephone</th>  <td>-0.3989</td>  <td>0.1316</td>   <td>-3.0310</td> <td>0.0024</td> <td>-0.6569</td> <td>-0.1410</td>\n",
       "</tr>\n",
       "<tr>\n",
       "  <th>contact_unknown</th>    <td>-2.0124</td>  <td>0.1007</td>  <td>-19.9839</td> <td>0.0000</td> <td>-2.2097</td> <td>-1.8150</td>\n",
       "</tr>\n",
       "<tr>\n",
       "  <th>month_aug</th>          <td>-1.4690</td>  <td>0.1065</td>  <td>-13.7972</td> <td>0.0000</td> <td>-1.6776</td> <td>-1.2603</td>\n",
       "</tr>\n",
       "<tr>\n",
       "  <th>month_jan</th>          <td>-3.1021</td>  <td>0.2534</td>  <td>-12.2413</td> <td>0.0000</td> <td>-3.5988</td> <td>-2.6054</td>\n",
       "</tr>\n",
       "<tr>\n",
       "  <th>month_jul</th>          <td>-1.5365</td>  <td>0.0979</td>  <td>-15.6918</td> <td>0.0000</td> <td>-1.7285</td> <td>-1.3446</td>\n",
       "</tr>\n",
       "<tr>\n",
       "  <th>month_jun</th>          <td>0.7405</td>   <td>0.1317</td>   <td>5.6216</td>  <td>0.0000</td> <td>0.4823</td>  <td>0.9987</td> \n",
       "</tr>\n",
       "<tr>\n",
       "  <th>month_mar</th>          <td>2.0843</td>   <td>0.1638</td>   <td>12.7262</td> <td>0.0000</td> <td>1.7633</td>  <td>2.4053</td> \n",
       "</tr>\n",
       "<tr>\n",
       "  <th>month_may</th>          <td>-0.2455</td>  <td>0.0799</td>   <td>-3.0739</td> <td>0.0021</td> <td>-0.4021</td> <td>-0.0890</td>\n",
       "</tr>\n",
       "<tr>\n",
       "  <th>month_nov</th>          <td>-1.4264</td>  <td>0.1121</td>  <td>-12.7223</td> <td>0.0000</td> <td>-1.6462</td> <td>-1.2067</td>\n",
       "</tr>\n",
       "<tr>\n",
       "  <th>month_oct</th>          <td>3.6419</td>   <td>0.3232</td>   <td>11.2701</td> <td>0.0000</td> <td>3.0086</td>  <td>4.2753</td> \n",
       "</tr>\n",
       "</table>"
      ],
      "text/plain": [
       "<class 'statsmodels.iolib.summary2.Summary'>\n",
       "\"\"\"\n",
       "                          Results: Logit\n",
       "===================================================================\n",
       "Model:                Logit            Pseudo R-squared: 0.360     \n",
       "Dependent Variable:   is_subscribed    AIC:              10725.3463\n",
       "Date:                 2022-01-19 01:06 BIC:              10951.4306\n",
       "No. Observations:     32000            Log-Likelihood:   -5335.7   \n",
       "Df Model:             26               LL-Null:          -8334.6   \n",
       "Df Residuals:         31973            LLR p-value:      0.0000    \n",
       "Converged:            1.0000           Scale:            1.0000    \n",
       "No. Iterations:       8.0000                                       \n",
       "-------------------------------------------------------------------\n",
       "                    Coef.  Std.Err.    z     P>|z|   [0.025  0.975]\n",
       "-------------------------------------------------------------------\n",
       "const              -3.0877   0.1057 -29.2233 0.0000 -3.2948 -2.8806\n",
       "balance             0.0000   0.0000   2.2009 0.0277  0.0000  0.0000\n",
       "day                 0.0367   0.0036  10.2254 0.0000  0.0296  0.0437\n",
       "duration            0.0049   0.0001  56.6603 0.0000  0.0047  0.0051\n",
       "campaign           -0.0512   0.0129  -3.9846 0.0001 -0.0764 -0.0260\n",
       "job_blue-collar    -0.4029   0.0865  -4.6577 0.0000 -0.5724 -0.2334\n",
       "job_entrepreneur   -0.4696   0.1687  -2.7833 0.0054 -0.8002 -0.1389\n",
       "job_housemaid      -0.8575   0.2032  -4.2201 0.0000 -1.2558 -0.4593\n",
       "job_management     -0.2513   0.0960  -2.6181 0.0088 -0.4394 -0.0632\n",
       "job_self-employed  -0.3351   0.1536  -2.1819 0.0291 -0.6361 -0.0341\n",
       "job_services       -0.4363   0.1112  -3.9227 0.0001 -0.6542 -0.2183\n",
       "job_technician     -0.2059   0.0878  -2.3445 0.0191 -0.3781 -0.0338\n",
       "job_unemployed     -0.3995   0.1585  -2.5204 0.0117 -0.7101 -0.0888\n",
       "marital_married    -0.3486   0.0543  -6.4196 0.0000 -0.4550 -0.2422\n",
       "education_tertiary  0.1991   0.0747   2.6671 0.0076  0.0528  0.3455\n",
       "housing_yes        -0.6562   0.0614 -10.6906 0.0000 -0.7765 -0.5359\n",
       "loan_yes           -0.2246   0.0791  -2.8387 0.0045 -0.3797 -0.0695\n",
       "contact_telephone  -0.3989   0.1316  -3.0310 0.0024 -0.6569 -0.1410\n",
       "contact_unknown    -2.0124   0.1007 -19.9839 0.0000 -2.2097 -1.8150\n",
       "month_aug          -1.4690   0.1065 -13.7972 0.0000 -1.6776 -1.2603\n",
       "month_jan          -3.1021   0.2534 -12.2413 0.0000 -3.5988 -2.6054\n",
       "month_jul          -1.5365   0.0979 -15.6918 0.0000 -1.7285 -1.3446\n",
       "month_jun           0.7405   0.1317   5.6216 0.0000  0.4823  0.9987\n",
       "month_mar           2.0843   0.1638  12.7262 0.0000  1.7633  2.4053\n",
       "month_may          -0.2455   0.0799  -3.0739 0.0021 -0.4021 -0.0890\n",
       "month_nov          -1.4264   0.1121 -12.7223 0.0000 -1.6462 -1.2067\n",
       "month_oct           3.6419   0.3232  11.2701 0.0000  3.0086  4.2753\n",
       "===================================================================\n",
       "\n",
       "\"\"\""
      ]
     },
     "execution_count": 20,
     "metadata": {},
     "output_type": "execute_result"
    }
   ],
   "source": [
    "def backward_elimination(model, y, X, features):\n",
    "    while True:\n",
    "        if max(model.pvalues[features]) > 0.05:\n",
    "            drop_variable = model.pvalues[model.pvalues == max(model.pvalues[features])]\n",
    "            print(\"Dropping \" + drop_variable.index[0] + \" and running regression again because pvalue is: \" + str(drop_variable[0]))\n",
    "            X = X.drop(columns = [drop_variable.index[0]])\n",
    "            features = features.drop(drop_variable.index[0])\n",
    "            model= sm.Logit(y, X).fit()\n",
    "        else:\n",
    "            print(\"All p values less than 0.05\")\n",
    "            return features\n",
    "            break;\n",
    "        \n",
    "significant_Features = backward_elimination(logit_model,train_y,train_X, X_df.columns)\n",
    "print(significant_Features)\n",
    "\n",
    "train_X = sm.add_constant(train_X[significant_Features])\n",
    "logit2 = sm.Logit(train_y,train_X)\n",
    "logit_model2 = logit2.fit()\n",
    "logit_model2.summary2()"
   ]
  },
  {
   "cell_type": "markdown",
   "id": "b3918016",
   "metadata": {},
   "source": [
    " ###  as graph analysis made via graphs, logistic regression also indicates the same results:\n",
    " \n",
    " # students and retired people must be aimed\n",
    " # marital status should be ignored\n",
    " # having credit in default neither significant nor has an impact on subcription\n",
    " # tertiary education matters when it comes to subscription\n",
    " # not having housing lone has a higher chance to subcribe\n",
    " #  according to logistic regression months june,march and october has a higher chance for subcription yet graphs don't give that intution in that regard\n",
    " # Again higher the campaing duration is,higher the possibility of subcription based on regression analysis \n",
    " \n",
    " \n",
    " # if resources are allocated this way,being successful is more likely for the company"
   ]
  },
  {
   "cell_type": "markdown",
   "id": "4b07d7fe",
   "metadata": {},
   "source": []
  },
  {
   "cell_type": "code",
   "execution_count": null,
   "id": "e64b4f7c",
   "metadata": {},
   "outputs": [],
   "source": []
  },
  {
   "cell_type": "code",
   "execution_count": null,
   "id": "9d1bd81a",
   "metadata": {},
   "outputs": [],
   "source": []
  }
 ],
 "metadata": {
  "kernelspec": {
   "display_name": "Python 3",
   "language": "python",
   "name": "python3"
  },
  "language_info": {
   "codemirror_mode": {
    "name": "ipython",
    "version": 3
   },
   "file_extension": ".py",
   "mimetype": "text/x-python",
   "name": "python",
   "nbconvert_exporter": "python",
   "pygments_lexer": "ipython3",
   "version": "3.8.8"
  }
 },
 "nbformat": 4,
 "nbformat_minor": 5
}
